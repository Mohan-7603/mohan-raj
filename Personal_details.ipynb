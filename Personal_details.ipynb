{
  "nbformat": 4,
  "nbformat_minor": 0,
  "metadata": {
    "colab": {
      "name": "Personal details.ipynb",
      "provenance": [],
      "authorship_tag": "ABX9TyN8WP73OpS2xiN9YS76CFbf",
      "include_colab_link": true
    },
    "kernelspec": {
      "name": "python3",
      "display_name": "Python 3"
    },
    "language_info": {
      "name": "python"
    }
  },
  "cells": [
    {
      "cell_type": "markdown",
      "metadata": {
        "id": "view-in-github",
        "colab_type": "text"
      },
      "source": [
        "<a href=\"https://colab.research.google.com/github/Mohan436/mohan-raj/blob/main/Personal_details.ipynb\" target=\"_parent\"><img src=\"https://colab.research.google.com/assets/colab-badge.svg\" alt=\"Open In Colab\"/></a>"
      ]
    },
    {
      "cell_type": "code",
      "metadata": {
        "colab": {
          "base_uri": "https://localhost:8080/"
        },
        "id": "L2zHyzdQRb9R",
        "outputId": "e457d25a-24e0-4940-db13-1d0e8823c8d4"
      },
      "source": [
        " \n",
        " \n",
        "name=(input(\"Enter your Name : \"))\n",
        "age=(input(\"Enter your Age : \"))\n",
        "address=(input(\"Enter your Address : \"))\n",
        "salary=(input(\"Enter your Salary : \"))\n",
        "no=(input(\"Enter your Mobile Number\"))\n",
        "print(\"NAME :\",name)\n",
        "print(\"\\nAGE :\",age)\n",
        "print(\"\\nADDRESS :\",address)\n",
        "print(\"\\nSALARY :\",salary)\n",
        "print(\"\\nMOBILE NUMBER :\",no)"
      ],
      "execution_count": 1,
      "outputs": [
        {
          "output_type": "stream",
          "text": [
            "Enter your Name : Mohan \n",
            "Enter your Age : 18\n",
            "Enter your Address : Salem\n",
            "Enter your Salary : 1,00,000\n",
            "Enter your Mobile Number9827553786\n",
            "NAME : Mohan \n",
            "\n",
            "AGE : 18\n",
            "\n",
            "ADDRESS : Salem\n",
            "\n",
            "SALARY : 1,00,000\n",
            "\n",
            "MOBILE NUMBER : 9827553786\n"
          ],
          "name": "stdout"
        }
      ]
    }
  ]
}