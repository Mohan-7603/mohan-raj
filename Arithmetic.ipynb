{
  "nbformat": 4,
  "nbformat_minor": 0,
  "metadata": {
    "colab": {
      "name": "Arithmetic.ipynb",
      "provenance": [],
      "authorship_tag": "ABX9TyNYqskT+GfLhE5CYTM6rpFK",
      "include_colab_link": true
    },
    "kernelspec": {
      "name": "python3",
      "display_name": "Python 3"
    },
    "language_info": {
      "name": "python"
    }
  },
  "cells": [
    {
      "cell_type": "markdown",
      "metadata": {
        "id": "view-in-github",
        "colab_type": "text"
      },
      "source": [
        "<a href=\"https://colab.research.google.com/github/Mohan436/mohan-raj/blob/main/Arithmetic.ipynb\" target=\"_parent\"><img src=\"https://colab.research.google.com/assets/colab-badge.svg\" alt=\"Open In Colab\"/></a>"
      ]
    },
    {
      "cell_type": "code",
      "metadata": {
        "colab": {
          "base_uri": "https://localhost:8080/"
        },
        "id": "_nzxHEjm8Hp9",
        "outputId": "21b73399-58e0-4392-8885-f39e66434b2e"
      },
      "source": [
        "X=int(input(\"Enter num1=\"))\n",
        "Y=int(input(\"Enter num2=\"))\n",
        "print(\"Addition=\",X+Y)\n",
        "print(\"Subtraction=\",X-Y)\n",
        "print(\"Multiplication=\",X*Y)\n",
        "print(\"Division=\",X/Y)"
      ],
      "execution_count": 3,
      "outputs": [
        {
          "output_type": "stream",
          "text": [
            "Enter num1=5\n",
            "Enter num2=4\n",
            "Addition= 9\n",
            "Subtraction= 1\n",
            "Multiplication= 20\n",
            "Division= 1.25\n"
          ],
          "name": "stdout"
        }
      ]
    }
  ]
}