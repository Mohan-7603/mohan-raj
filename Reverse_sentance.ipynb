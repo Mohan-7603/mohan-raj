{
  "nbformat": 4,
  "nbformat_minor": 0,
  "metadata": {
    "colab": {
      "name": "Reverse sentance.ipynb",
      "provenance": [],
      "authorship_tag": "ABX9TyPlXu94pjGpPSCjMQ7oB0R0",
      "include_colab_link": true
    },
    "kernelspec": {
      "name": "python3",
      "display_name": "Python 3"
    },
    "language_info": {
      "name": "python"
    }
  },
  "cells": [
    {
      "cell_type": "markdown",
      "metadata": {
        "id": "view-in-github",
        "colab_type": "text"
      },
      "source": [
        "<a href=\"https://colab.research.google.com/github/Mohan436/mohan-raj/blob/main/Reverse_sentance.ipynb\" target=\"_parent\"><img src=\"https://colab.research.google.com/assets/colab-badge.svg\" alt=\"Open In Colab\"/></a>"
      ]
    },
    {
      "cell_type": "code",
      "metadata": {
        "colab": {
          "base_uri": "https://localhost:8080/"
        },
        "id": "800LValMQbd1",
        "outputId": "8a238623-4c0b-4563-878f-a48a030ab0ff"
      },
      "source": [
        "a=(input(\"Enter Sentence : \"))\n",
        "b=a[::-1]\n",
        "print(\"Reverse Sentence\")\n",
        "print(\"\\n\",b)"
      ],
      "execution_count": 1,
      "outputs": [
        {
          "output_type": "stream",
          "text": [
            "Enter Sentence : I love python\n",
            "Reverse Sentence\n",
            "\n",
            " nohtyp evol I\n"
          ],
          "name": "stdout"
        }
      ]
    }
  ]
}