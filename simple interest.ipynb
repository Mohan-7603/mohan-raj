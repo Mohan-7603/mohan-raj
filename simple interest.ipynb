{
  "nbformat": 4,
  "nbformat_minor": 0,
  "metadata": {
    "colab": {
      "name": "Untitled1.ipynb",
      "provenance": [],
      "authorship_tag": "ABX9TyOE4iL5NuLz+u/+AsXRynYN",
      "include_colab_link": true
    },
    "kernelspec": {
      "name": "python3",
      "display_name": "Python 3"
    },
    "language_info": {
      "name": "python"
    }
  },
  "cells": [
    {
      "cell_type": "markdown",
      "metadata": {
        "id": "view-in-github",
        "colab_type": "text"
      },
      "source": [
        "<a href=\"https://colab.research.google.com/github/Mohan436/mohan-raj/blob/main/simple%20interest.ipynb\" target=\"_parent\"><img src=\"https://colab.research.google.com/assets/colab-badge.svg\" alt=\"Open In Colab\"/></a>"
      ]
    },
    {
      "cell_type": "code",
      "metadata": {
        "colab": {
          "base_uri": "https://localhost:8080/"
        },
        "id": "ONCMvmHW7TNv",
        "outputId": "e7bdb05d-9195-405e-dfb6-8ae6c8facb30"
      },
      "source": [
        "P = float(input(\"Enter the principal amount : \"))\n",
        " \n",
        "N = float(input(\"Enter the number of years : \"))\n",
        " \n",
        "R = float(input(\"Enter the rate of interest : \"))\n",
        " \n",
        "#calculate simple interest by using this formula\n",
        "SI = (P * N * R)/100\n",
        " \n",
        "#print\n",
        "print(\"Simple interest : {}\".format(SI))"
      ],
      "execution_count": 1,
      "outputs": [
        {
          "output_type": "stream",
          "text": [
            "Enter the principal amount : 1000\n",
            "Enter the number of years : 2\n",
            "Enter the rate of interest : 3\n",
            "Simple interest : 60.0\n"
          ],
          "name": "stdout"
        }
      ]
    }
  ]
}